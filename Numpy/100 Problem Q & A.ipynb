{
 "cells": [
  {
   "cell_type": "code",
   "execution_count": 2,
   "metadata": {},
   "outputs": [],
   "source": [
    "# 1. Import the numpy package under the name 'np.\n",
    "\n",
    "import numpy as np"
   ]
  },
  {
   "cell_type": "code",
   "execution_count": 2,
   "metadata": {},
   "outputs": [
    {
     "name": "stdout",
     "output_type": "stream",
     "text": [
      "1.22.1\n",
      "openblas64__info:\n",
      "    library_dirs = ['D:\\\\a\\\\1\\\\s\\\\numpy\\\\build\\\\openblas64__info']\n",
      "    libraries = ['openblas64__info']\n",
      "    language = f77\n",
      "    define_macros = [('HAVE_CBLAS', None), ('BLAS_SYMBOL_SUFFIX', '64_'), ('HAVE_BLAS_ILP64', None)]\n",
      "blas_ilp64_opt_info:\n",
      "    library_dirs = ['D:\\\\a\\\\1\\\\s\\\\numpy\\\\build\\\\openblas64__info']\n",
      "    libraries = ['openblas64__info']\n",
      "    language = f77\n",
      "    define_macros = [('HAVE_CBLAS', None), ('BLAS_SYMBOL_SUFFIX', '64_'), ('HAVE_BLAS_ILP64', None)]\n",
      "openblas64__lapack_info:\n",
      "    library_dirs = ['D:\\\\a\\\\1\\\\s\\\\numpy\\\\build\\\\openblas64__lapack_info']\n",
      "    libraries = ['openblas64__lapack_info']\n",
      "    language = f77\n",
      "    define_macros = [('HAVE_CBLAS', None), ('BLAS_SYMBOL_SUFFIX', '64_'), ('HAVE_BLAS_ILP64', None), ('HAVE_LAPACKE', None)]\n",
      "lapack_ilp64_opt_info:\n",
      "    library_dirs = ['D:\\\\a\\\\1\\\\s\\\\numpy\\\\build\\\\openblas64__lapack_info']\n",
      "    libraries = ['openblas64__lapack_info']\n",
      "    language = f77\n",
      "    define_macros = [('HAVE_CBLAS', None), ('BLAS_SYMBOL_SUFFIX', '64_'), ('HAVE_BLAS_ILP64', None), ('HAVE_LAPACKE', None)]\n",
      "Supported SIMD extensions in this NumPy install:\n",
      "    baseline = SSE,SSE2,SSE3\n",
      "    found = SSSE3,SSE41,POPCNT,SSE42,AVX,F16C,FMA3,AVX2,AVX512F,AVX512CD,AVX512_SKX,AVX512_CLX,AVX512_CNL,AVX512_ICL\n",
      "    not found = \n",
      "None\n"
     ]
    }
   ],
   "source": [
    "# 2. Print the numpy version and the configuration\n",
    "\n",
    "# Check version:-\n",
    "print(np.__version__)\n",
    "\n",
    "# Check configuration\n",
    "print(np.show_config())\n",
    "\n"
   ]
  },
  {
   "cell_type": "code",
   "execution_count": 3,
   "metadata": {},
   "outputs": [
    {
     "data": {
      "text/plain": [
       "array([0., 0., 0., 0., 0., 0., 0., 0., 0., 0.])"
      ]
     },
     "execution_count": 3,
     "metadata": {},
     "output_type": "execute_result"
    }
   ],
   "source": [
    "# 3. Create a null vector of size 10\n",
    "\n",
    "arr = np.zeros(10)\n",
    "arr"
   ]
  },
  {
   "cell_type": "code",
   "execution_count": 4,
   "metadata": {},
   "outputs": [
    {
     "name": "stdout",
     "output_type": "stream",
     "text": [
      "Size of the array:  8\n",
      "Memory Size of one array element in bytes:  4\n",
      "Memory size of numpy array in bytes:  32\n",
      "Memory size of a Numpy array by using nbytes:  32\n"
     ]
    }
   ],
   "source": [
    "# 4. How to find the memory size of any array\n",
    "\n",
    "# - By using SIZE and ITEMSIZE attributes in NumPy array.\n",
    "\n",
    "arr1 = np.array([[1,2,3,4],[5,6,7,8]])\n",
    "\n",
    "print(\"Size of the array: \", arr1.size)\n",
    "\n",
    "print(\"Memory Size of one array element in bytes: \", arr1.itemsize)\n",
    "\n",
    "print(\"Memory size of numpy array in bytes: \", arr1.size * arr1.itemsize)\n",
    "\n",
    "# By using NBYTES attributes in NumPy array.\n",
    "\n",
    "print(\"Memory size of a Numpy array by using nbytes: \", arr1.nbytes)"
   ]
  },
  {
   "cell_type": "code",
   "execution_count": 5,
   "metadata": {},
   "outputs": [
    {
     "name": "stdout",
     "output_type": "stream",
     "text": [
      "add(x1, x2, /, out=None, *, where=True, casting='same_kind', order='K', dtype=None, subok=True[, signature, extobj])\n",
      "\n",
      "Add arguments element-wise.\n",
      "\n",
      "Parameters\n",
      "----------\n",
      "x1, x2 : array_like\n",
      "    The arrays to be added.\n",
      "    If ``x1.shape != x2.shape``, they must be broadcastable to a common\n",
      "    shape (which becomes the shape of the output).\n",
      "out : ndarray, None, or tuple of ndarray and None, optional\n",
      "    A location into which the result is stored. If provided, it must have\n",
      "    a shape that the inputs broadcast to. If not provided or None,\n",
      "    a freshly-allocated array is returned. A tuple (possible only as a\n",
      "    keyword argument) must have length equal to the number of outputs.\n",
      "where : array_like, optional\n",
      "    This condition is broadcast over the input. At locations where the\n",
      "    condition is True, the `out` array will be set to the ufunc result.\n",
      "    Elsewhere, the `out` array will retain its original value.\n",
      "    Note that if an uninitialized `out` array is created via the default\n",
      "    ``out=None``, locations within it where the condition is False will\n",
      "    remain uninitialized.\n",
      "**kwargs\n",
      "    For other keyword-only arguments, see the\n",
      "    :ref:`ufunc docs <ufuncs.kwargs>`.\n",
      "\n",
      "Returns\n",
      "-------\n",
      "add : ndarray or scalar\n",
      "    The sum of `x1` and `x2`, element-wise.\n",
      "    This is a scalar if both `x1` and `x2` are scalars.\n",
      "\n",
      "Notes\n",
      "-----\n",
      "Equivalent to `x1` + `x2` in terms of array broadcasting.\n",
      "\n",
      "Examples\n",
      "--------\n",
      ">>> np.add(1.0, 4.0)\n",
      "5.0\n",
      ">>> x1 = np.arange(9.0).reshape((3, 3))\n",
      ">>> x2 = np.arange(3.0)\n",
      ">>> np.add(x1, x2)\n",
      "array([[  0.,   2.,   4.],\n",
      "       [  3.,   5.,   7.],\n",
      "       [  6.,   8.,  10.]])\n",
      "\n",
      "The ``+`` operator can be used as a shorthand for ``np.add`` on ndarrays.\n",
      "\n",
      ">>> x1 = np.arange(9.0).reshape((3, 3))\n",
      ">>> x2 = np.arange(3.0)\n",
      ">>> x1 + x2\n",
      "array([[ 0.,  2.,  4.],\n",
      "       [ 3.,  5.,  7.],\n",
      "       [ 6.,  8., 10.]])\n",
      "None\n"
     ]
    }
   ],
   "source": [
    "# 5. How to get the documentation of the numpy add function from the command line?\n",
    "\n",
    "print(np.info(np.add))"
   ]
  },
  {
   "cell_type": "code",
   "execution_count": 6,
   "metadata": {},
   "outputs": [
    {
     "data": {
      "text/plain": [
       "array([0., 0., 0., 0., 1., 0., 0., 0., 0., 0.])"
      ]
     },
     "execution_count": 6,
     "metadata": {},
     "output_type": "execute_result"
    }
   ],
   "source": [
    "#  6. Create a null vector of size 10 but the fifth value which is 1?\n",
    "\n",
    "arr3 = np.zeros(10)\n",
    "arr3[4] = 1\n",
    "arr3"
   ]
  },
  {
   "cell_type": "code",
   "execution_count": 7,
   "metadata": {},
   "outputs": [
    {
     "data": {
      "text/plain": [
       "array([10, 11, 12, 13, 14, 15, 16, 17, 18, 19, 20, 21, 22, 23, 24, 25, 26,\n",
       "       27, 28, 29, 30, 31, 32, 33, 34, 35, 36, 37, 38, 39, 40, 41, 42, 43,\n",
       "       44, 45, 46, 47, 48, 49])"
      ]
     },
     "execution_count": 7,
     "metadata": {},
     "output_type": "execute_result"
    }
   ],
   "source": [
    "# 7. Create a vector with values ranging from 10 to 49?\n",
    "\n",
    "arr4 = np.arange(10,50)\n",
    "arr4"
   ]
  },
  {
   "cell_type": "code",
   "execution_count": 8,
   "metadata": {},
   "outputs": [
    {
     "name": "stdout",
     "output_type": "stream",
     "text": [
      "Original array:  [0 1 2 3 4 5]\n",
      "Reverse array:  [5 4 3 2 1 0]\n"
     ]
    }
   ],
   "source": [
    "# 8. Reverse a vector (first element becomes last)?\n",
    "arr5 = np.arange(0, 6)\n",
    "print(\"Original array: \", arr5)\n",
    "\n",
    "print(\"Reverse array: \", arr5[::-1])"
   ]
  },
  {
   "cell_type": "code",
   "execution_count": 9,
   "metadata": {},
   "outputs": [
    {
     "data": {
      "text/plain": [
       "array([[0, 1, 2],\n",
       "       [3, 4, 5],\n",
       "       [6, 7, 8]])"
      ]
     },
     "execution_count": 9,
     "metadata": {},
     "output_type": "execute_result"
    }
   ],
   "source": [
    "# 9. Create a 3x3 matrix with values ranging from 0 to 8?\n",
    "\n",
    "arr6 = np.arange(0, 9).reshape(3,3)\n",
    "arr6"
   ]
  },
  {
   "cell_type": "code",
   "execution_count": 10,
   "metadata": {},
   "outputs": [
    {
     "name": "stdout",
     "output_type": "stream",
     "text": [
      "Original array:  [1 2 0 0 4 0]\n",
      "Indices of non-zero elements:  (array([0, 1, 4], dtype=int64),)\n"
     ]
    }
   ],
   "source": [
    "# 10. Find indices of non-zero elements from [1,2,0,0,4,0]?\n",
    "\n",
    "arr7 = np.array([1,2,0,0,4,0])\n",
    "print(\"Original array: \", arr7)\n",
    "non_zero = np.nonzero(arr7)\n",
    "print(\"Indices of non-zero elements: \", non_zero)"
   ]
  },
  {
   "cell_type": "code",
   "execution_count": 11,
   "metadata": {},
   "outputs": [
    {
     "data": {
      "text/plain": [
       "array([[1., 0., 0.],\n",
       "       [0., 1., 0.],\n",
       "       [0., 0., 1.]])"
      ]
     },
     "execution_count": 11,
     "metadata": {},
     "output_type": "execute_result"
    }
   ],
   "source": [
    "# 11. Create a 3x3 identity matrix\n",
    "\n",
    "arr8 = np.identity(3)\n",
    "arr8"
   ]
  },
  {
   "cell_type": "code",
   "execution_count": 1,
   "metadata": {},
   "outputs": [],
   "source": [
    "import numpy as np"
   ]
  },
  {
   "cell_type": "code",
   "execution_count": 4,
   "metadata": {},
   "outputs": [
    {
     "data": {
      "text/plain": [
       "array([[[0.12257375, 0.83511525, 0.8704178 ],\n",
       "        [0.67925854, 0.88723511, 0.62332253],\n",
       "        [0.44789724, 0.23614966, 0.69039328]],\n",
       "\n",
       "       [[0.44174477, 0.40549936, 0.52295011],\n",
       "        [0.76064488, 0.77591492, 0.23836426],\n",
       "        [0.26641595, 0.71406878, 0.70058828]],\n",
       "\n",
       "       [[0.85521982, 0.54535653, 0.93799363],\n",
       "        [0.99669982, 0.01836937, 0.39520238],\n",
       "        [0.56112147, 0.78996926, 0.84025012]]])"
      ]
     },
     "execution_count": 4,
     "metadata": {},
     "output_type": "execute_result"
    }
   ],
   "source": [
    "# 12. Create a 3x3x3 array with random values?\n",
    "\n",
    "a = np.random.random((3,3,3))\n",
    "a"
   ]
  },
  {
   "cell_type": "code",
   "execution_count": 6,
   "metadata": {},
   "outputs": [
    {
     "name": "stdout",
     "output_type": "stream",
     "text": [
      "Original array:  [[0.88984428 0.53424115 0.82057146 0.58657403 0.27901961 0.63190431\n",
      "  0.2331149  0.21491014 0.35184622 0.43365967]\n",
      " [0.14554665 0.08530893 0.18278467 0.12727511 0.58832575 0.6403771\n",
      "  0.37635159 0.59518967 0.41956287 0.38296331]\n",
      " [0.55939892 0.06798275 0.51344948 0.40100442 0.5751992  0.08840878\n",
      "  0.16297043 0.94498744 0.38579268 0.32034089]\n",
      " [0.250223   0.29319566 0.13595331 0.42820078 0.57538895 0.75292218\n",
      "  0.13234062 0.07722104 0.80381801 0.77631641]\n",
      " [0.71694441 0.55078494 0.30684618 0.25055969 0.74164485 0.30630771\n",
      "  0.74010755 0.84997933 0.59857399 0.61069802]\n",
      " [0.93926304 0.04431812 0.46113642 0.33187628 0.38773759 0.17680455\n",
      "  0.81744295 0.344628   0.29258765 0.69894783]\n",
      " [0.70274608 0.77524507 0.30250485 0.31907101 0.19180169 0.84803334\n",
      "  0.09492183 0.23523386 0.21026042 0.56574729]\n",
      " [0.92383793 0.13073511 0.78759934 0.17441381 0.26791889 0.03146355\n",
      "  0.50827603 0.6038614  0.31848409 0.7762379 ]\n",
      " [0.48759672 0.69087596 0.81688849 0.62273641 0.69288402 0.08997269\n",
      "  0.00766918 0.47868357 0.68306462 0.52695294]\n",
      " [0.32914616 0.59267616 0.36972579 0.64877694 0.47080185 0.06964976\n",
      "  0.81794516 0.10625145 0.69607412 0.3908334 ]]\n",
      "The minimum value of b:   0.007669181412289117\n",
      "The maximum value of b:  0.9449874360597633\n"
     ]
    }
   ],
   "source": [
    "# 13. Create a 10x10 array with random values and find the minimum and maximum values?\n",
    "\n",
    "b = np.random.random((10,10))\n",
    "print(\"Original array: \", b)\n",
    "print(\"The minimum value of b:  \", b.min())\n",
    "print(\"The maximum value of b: \", b.max())"
   ]
  },
  {
   "cell_type": "code",
   "execution_count": 7,
   "metadata": {},
   "outputs": [
    {
     "name": "stdout",
     "output_type": "stream",
     "text": [
      "Original array:  [0.83149841 0.83824648 0.84570987 0.11788885 0.09647802 0.73093662\n",
      " 0.91046703 0.28197239 0.04762872 0.44462023 0.65375404 0.67671492\n",
      " 0.56644289 0.74895418 0.97178646 0.66500377 0.94518908 0.16883021\n",
      " 0.02823011 0.05339857 0.21583533 0.29402418 0.73808309 0.76708131\n",
      " 0.98053343 0.38046534 0.93914997 0.68126977 0.82894115 0.26032772]\n",
      "Mean of above array:  0.5569820714003111\n"
     ]
    }
   ],
   "source": [
    "# 14. Create a random vector of size 30 and find the mean value ?\n",
    "\n",
    "c = np.random.random(30)\n",
    "print(\"Original array: \", c)\n",
    "print(\"Mean of above array: \", c.mean())"
   ]
  },
  {
   "cell_type": "code",
   "execution_count": 10,
   "metadata": {},
   "outputs": [
    {
     "name": "stdout",
     "output_type": "stream",
     "text": [
      "Original array:  [[1. 1. 1. 1.]\n",
      " [1. 1. 1. 1.]\n",
      " [1. 1. 1. 1.]\n",
      " [1. 1. 1. 1.]]\n",
      "Output array:  [[1. 1. 1. 1.]\n",
      " [1. 0. 0. 1.]\n",
      " [1. 0. 0. 1.]\n",
      " [1. 1. 1. 1.]]\n"
     ]
    }
   ],
   "source": [
    "# 15. Create a 2d array with 1 on the border and 0 inside?\n",
    "\n",
    "d = np.ones((4,4))\n",
    "\n",
    "print(\"Original array: \", d)\n",
    "\n",
    "d[1:-1, 1:-1]=0\n",
    "\n",
    "print(\"Output array: \",d)"
   ]
  },
  {
   "cell_type": "code",
   "execution_count": 11,
   "metadata": {},
   "outputs": [
    {
     "name": "stdout",
     "output_type": "stream",
     "text": [
      "nan\n",
      "False\n",
      "False\n",
      "nan\n",
      "True\n",
      "False\n"
     ]
    }
   ],
   "source": [
    "'''17. What is the result of the following expression? (★☆☆)\n",
    "python\n",
    "0 * np.nan\n",
    "np.nan == np.nan\n",
    "np.inf > np.nan\n",
    "np.nan - np.nan\n",
    "np.nan in set([np.nan])\n",
    "0.3 == 3 * 0.1'''\n",
    "\n",
    "print(0 * np.nan)\n",
    "print(np.nan == np.nan)\n",
    "print(np.inf > np.nan)\n",
    "print(np.nan - np.nan)\n",
    "print(np.nan in set([np.nan]))\n",
    "print(0.3 == 3 * 0.1)"
   ]
  },
  {
   "cell_type": "code",
   "execution_count": 12,
   "metadata": {},
   "outputs": [
    {
     "name": "stdout",
     "output_type": "stream",
     "text": [
      "[[0 0 0 0 0]\n",
      " [1 0 0 0 0]\n",
      " [0 2 0 0 0]\n",
      " [0 0 3 0 0]\n",
      " [0 0 0 4 0]]\n"
     ]
    }
   ],
   "source": [
    "# 18. Create a 5x5 matrix with values 1,2,3,4 just below the diagonal?\n",
    "\n",
    "e = np.diag(1+np.arange(4),k=-1)\n",
    "print(e)"
   ]
  },
  {
   "cell_type": "code",
   "execution_count": 13,
   "metadata": {},
   "outputs": [
    {
     "name": "stdout",
     "output_type": "stream",
     "text": [
      "Checkbox pattern [[0 1 0 1 0 1 0 1]\n",
      " [1 0 1 0 1 0 1 0]\n",
      " [0 1 0 1 0 1 0 1]\n",
      " [1 0 1 0 1 0 1 0]\n",
      " [0 1 0 1 0 1 0 1]\n",
      " [1 0 1 0 1 0 1 0]\n",
      " [0 1 0 1 0 1 0 1]\n",
      " [1 0 1 0 1 0 1 0]]\n"
     ]
    }
   ],
   "source": [
    "# 19. Create a 8x8 matrix and fill it with a checkerboard pattern\n",
    "\n",
    "f = np.zeros((8,8), dtype = int)\n",
    "f[1::2,::2] = 1\n",
    "f[::2, 1::2]=1\n",
    "print(\"Checkbox pattern\", f)\n"
   ]
  },
  {
   "cell_type": "code",
   "execution_count": 3,
   "metadata": {},
   "outputs": [
    {
     "name": "stdout",
     "output_type": "stream",
     "text": [
      "[0 1 3 4 6]\n"
     ]
    }
   ],
   "source": [
    "# 20. How to find common values between two arrays? (★☆☆)\n",
    "Z1 = np.random.randint(0,10,10)\n",
    "Z2 = np.random.randint(0,10,10)\n",
    "print(np.intersect1d(Z1,Z2))"
   ]
  },
  {
   "cell_type": "code",
   "execution_count": null,
   "metadata": {},
   "outputs": [],
   "source": [
    "#  21. How to get the dates of yesterday, today and tomorrow? (★☆☆)\n",
    "\n",
    "yesterday = np.datetime64('today') - np.timedelta64(1)\n",
    "today     = np.datetime64('today')\n",
    "tomorrow  = np.datetime64('today') + np.timedelta64(1)"
   ]
  }
 ],
 "metadata": {
  "kernelspec": {
   "display_name": "Python 3.10.6 64-bit",
   "language": "python",
   "name": "python3"
  },
  "language_info": {
   "codemirror_mode": {
    "name": "ipython",
    "version": 3
   },
   "file_extension": ".py",
   "mimetype": "text/x-python",
   "name": "python",
   "nbconvert_exporter": "python",
   "pygments_lexer": "ipython3",
   "version": "3.10.6"
  },
  "orig_nbformat": 4,
  "vscode": {
   "interpreter": {
    "hash": "52634da84371cba311ea128a5ea7cdc41ff074b781779e754b270ff9f8153cee"
   }
  }
 },
 "nbformat": 4,
 "nbformat_minor": 2
}
